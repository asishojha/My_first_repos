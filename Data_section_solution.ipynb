{
    "nbformat_minor": 1, 
    "cells": [
        {
            "source": "## Data Requirements:\n", 
            "cell_type": "markdown", 
            "metadata": {
                "collapsed": true
            }
        }, 
        {
            "source": "### 1. We will need a list of Toronto neighborhoods broken down by postal code.  \nI start with finding a list of Toronto Neighbor hoods with postal code from Wikipedia and load this data as my working base.  \nhttps://en.wikipedia.org/wiki/List_of_postal_codes_of_Canada:_M  \n### 2. We will need a list of Toronto neighborhoods populations broken down by postal code\n2. We will need a list of Toronto neighborhoods populations broken down by postal code  \nImport a list of populations by postal code  \nhttps://www12.statcan.gc.ca/census-recensement/2016/dp-pd/hlt-fst/pd-pl/Tables/File.cfm?T=1201&SR=1&RPP=9999&PR=0&CMA=0&CSD=0&S=22&O=A&Lang=Eng&OFT=CSV  \n\n### 3. We will need a list of Toronto neighborhoods average after tax income broken down by postal code  \nHere we must manually download these from Stats Canada and load them.  \nhttps://www12.statcan.gc.ca/census-recensement/2016/dp-pd/prof/search-recherche/change-geo.cfm?Lang=E&Geo1=FSA  \nSee: to_geo_space.csv  \n\n### 4. What is the Canadian National Average After Tax Income by Postal code\nHere we must also manually download this from Stats Canada and load them.  \nhttps://www150.statcan.gc.ca/n1/daily-quotidien/180313/dq180313a-eng.htm  \nCanadian families and unattached individuals had a median after-tax income of $57,000 in 2016.  \n  \n", 
            "cell_type": "markdown", 
            "metadata": {}
        }, 
        {
            "source": "### 5. We will need a list of all Restaurant Venues from all neighborhoods in Toronto by Postal code\nWe use 4SQUARE API to download all venues from all neighborhoods in Toronto. \nhttps://api.foursquare.com  \nExtract Restaurants and only include Restaurants in our Data Set.  \n  \n### 6. Combine all of those into a working Data Set to cluster and geo spatial map of the results showing the best neighborhood to open a Restaurant Supply Store\nCombining all of these disparate data sets will clearly demonstrate the following:  \n  \n1)which neighborhoods in Toronto have clusters of like Restaurants  \n2)how populated each neighborhoods is  \n3)the average after tax income is all of these neighborhoods  \n4)which neighborhood should he target to open his new store.  ", 
            "cell_type": "markdown", 
            "metadata": {}
        }, 
        {
            "source": "", 
            "cell_type": "code", 
            "metadata": {}, 
            "outputs": [], 
            "execution_count": null
        }
    ], 
    "metadata": {
        "kernelspec": {
            "display_name": "Python 3.5", 
            "name": "python3", 
            "language": "python"
        }, 
        "language_info": {
            "mimetype": "text/x-python", 
            "nbconvert_exporter": "python", 
            "version": "3.5.5", 
            "name": "python", 
            "file_extension": ".py", 
            "pygments_lexer": "ipython3", 
            "codemirror_mode": {
                "version": 3, 
                "name": "ipython"
            }
        }
    }, 
    "nbformat": 4
}