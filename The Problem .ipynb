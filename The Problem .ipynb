{
    "nbformat_minor": 1, 
    "cells": [
        {
            "source": "# Capstone: Find the best neighborhood in Toronto to open a Restaurant Supply Store", 
            "cell_type": "markdown", 
            "metadata": {
                "collapsed": true
            }
        }, 
        {
            "source": "By Asish Ojha", 
            "cell_type": "markdown", 
            "metadata": {}
        }, 
        {
            "source": "## Introduction:\n", 
            "cell_type": "markdown", 
            "metadata": {}
        }, 
        {
            "source": "A friend of mine who runs a leading Restaurant Supply Store has found out that I am studying data science and has asked for help in trying to determine which neighborhood in Toronto he should open his new store in.\n\nI begin with an interview with my friend to determine the requirements.", 
            "cell_type": "markdown", 
            "metadata": {}
        }, 
        {
            "source": "## Problem Description:", 
            "cell_type": "markdown", 
            "metadata": {}
        }, 
        {
            "source": "Which neighborhood should my friend open his new Restaurant Supply store in Toronto? \nHe wants to ensure steady and sustainable business.", 
            "cell_type": "markdown", 
            "metadata": {}
        }, 
        {
            "source": "## Requirements:  \n1. Store needs to be strategically located inside the biggest concentration of restaurants in Toronto area.  \n2. Confirm any assumption by means of modeling and testing the data. Specifically, visually cluster common restaurants in Toronto by neighborhood.  \n3. Additionally determine that a good number people can frequent these restaurants with sustainable frequency inside these neighborhoods.  \n    a.) Is the neighborhood populous?  \n    b.) Is the neighborhood average salary close to the Canadian National Average?  \n", 
            "cell_type": "markdown", 
            "metadata": {}
        }, 
        {
            "source": "My friend wants to be able to judge which neighborhoods also may be poised to grow in restaurant numbers in coming years.  \n  \nLocating his new store according to these requirements will ensure the following:  \n  \nlowest cost for delivery  \nshortest travel time to his store for his clients  \noverall lower run costs  \nincrease in overall business  \noverall greater customer satisfaction  ", 
            "cell_type": "markdown", 
            "metadata": {}
        }, 
        {
            "source": "", 
            "cell_type": "code", 
            "metadata": {}, 
            "outputs": [], 
            "execution_count": null
        }
    ], 
    "metadata": {
        "kernelspec": {
            "display_name": "Python 3.5", 
            "name": "python3", 
            "language": "python"
        }, 
        "language_info": {
            "mimetype": "text/x-python", 
            "nbconvert_exporter": "python", 
            "version": "3.5.5", 
            "name": "python", 
            "file_extension": ".py", 
            "pygments_lexer": "ipython3", 
            "codemirror_mode": {
                "version": 3, 
                "name": "ipython"
            }
        }
    }, 
    "nbformat": 4
}