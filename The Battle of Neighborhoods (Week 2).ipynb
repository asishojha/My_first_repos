{
    "nbformat_minor": 1, 
    "cells": [
        {
            "source": "# Capstone: Find the best neighborhood in Toronto to open a Restaurant Supply Store", 
            "cell_type": "markdown", 
            "metadata": {
                "collapsed": true
            }
        }, 
        {
            "source": "## Introduction:\n  ", 
            "cell_type": "markdown", 
            "metadata": {}
        }, 
        {
            "source": "A friend of mine who runs a leading Restaurant Supply Store has found out that I am studying data science and has asked for help in trying to determine which neighborhood in Toronto he should open his new store in.  \nI begin with an interview with my friend to determine the requirements.  \n  ", 
            "cell_type": "markdown", 
            "metadata": {}
        }, 
        {
            "source": "## Problem Description:\nWhich neighborhood should my friend open his new Restaurant Supply store in Toronto?   \nHe wants to ensure steady and sustainable business.  \n  \n### Requirements:  \n1. Store needs to be strategically located inside the biggest concentration of restaurants in Toronto area.  \n2. Confirm any assumption by means of modeling and testing the data. Specifically, visually cluster common restaurants in Toronto by neighborhood.  \n3. Additionally determine that a good number people can frequent these restaurants with sustainable frequency inside these neighborhoods.  \n  a.) Is the neighborhood populous?  \n  b.) Is the neighborhood average salary close to the Canadian National Average?  \n  \nMy friend wants to be able to judge which neighborhoods also may be poised to grow in restaurant numbers in coming years.  \n  \nLocating his new store according to these requirements will ensure the following:  \n  \n*lowest cost for delivery  \n*shortest travel time to his store for his clients  \n*overall lower run costs  \n*increase in overall business  \n*overall greater customer satisfaction  \n\n  \n", 
            "cell_type": "markdown", 
            "metadata": {}
        }, 
        {
            "source": "## Data:\nYou can follow along in my Capstone Notebook located here:  \nhttps://github.com/dcrouch1/Peer-graded-Assignment-Capstone-Project---The-Battle-of-Neighborhoods-Week-2-/blob/master/Daves_Capstone.ipynb   \n  \n### Data Wrangling  \nA lot of hard work went into creating the working data set.  \nI had to combine the following disparate data sources. The order of events went like this  \n  \n### 1. Load all the Data from all the various sources.  \n### 1.1 Toronto neighborhoods broken down by postal code  \nhttps://en.wikipedia.org/wiki/List_of_postal_codes_of_Canada:_M  \nHere I used BeautifulSoup to scrape the wiki page to extract a working list of Toronto Neighborhoods sorted by postal code.  \n\n### 1.1.1 Load Toronto geospatial coordinates and merge to Toronto Postal Code Data  \nhttp://cocl.us/Geospatial_data  \nNext, I joined geo spatial to the Toronto Data.  \n  \n### 1.2 Toronto neighborhoods populations broken down by postal code  \nhttps://www12.statcan.gc.ca/census-recensement/2016/dp-pd/hlt-fst/pd-pl/Tables/File.cfm?T=1201&SR=1&RPP=9999&PR=0&CMA=0&CSD=0&S=22&O=A&Lang=Eng&OFT=CSV  \nUse Pandas to grab the csv  \n  \n### 1.2.1 Merge Toronto Neighbourhood populations data with Toronto Postal Code data  \nNext, I joined population data to the Toronto Data.  \n  \n### 1.3 Toronto neighborhoods average after tax income broken down by postal code  \nHere we must manually download these from Stats Canada and load them.  \nhttps://www12.statcan.gc.ca/census-recensement/2016/dp-pd/prof/search-recherche/change-geo.cfm?Lang=E&Geo1=FSA  \nSee: to_geo_space.csv  \n  \n### 1.3.1 Merge Toronto Neighbourhood income data with Toronto Postal Code data  \nNext, I joined income data to the Toronto Data.  \nAt this time I also saved a copy of the data set as my friend had asked for it in his list of requirements.  \nSee: TO_Affluence.csv  \n  \n### 1.4 What is the Canadian National Average After Tax Income  \nHere I must also manually download this from Stats Canada and load them.  \nhttps://www150.statcan.gc.ca/n1/daily-quotidien/180313/dq180313a-eng.htm  \nCanadian families and unattached individuals had a median after-tax income of $57,000 in 2016.  ", 
            "cell_type": "markdown", 
            "metadata": {}
        }, 
        {
            "source": "#### Key Observation: Of the 103 Toronto Neighborhoods gathered only 55.3% or 57 Neighborhoods are above the median after-tax income. 37.8% or 39 Neighborhoods are below he median after-tax income. 6.7% or 7 neighborhoods did not register as it appears their populations are too low. It appears that the greatest concentration of affluence is near central Toronto. We decided to keep all neighborhoods in the dataset regardless of income of population as the majority were close enough.", 
            "cell_type": "markdown", 
            "metadata": {}
        }, 
        {
            "source": "### 1.5 Toronto list of Restaurants or Venues that could potentially use Restaurant Equipment  \n4SQUARE API   \nhttps://api.foursquare.com  \n  \n#### 1.5.1 Get all the Venues in Toronto.  \n#### 1.5.2 Only add Restaurants as Venue Categories  \nUse this list to Extract Restaurants and only include Restaurants in our Data Set.  \n  \n#### 1.5.3 OneHot encode and count restaurants  \nPrepare the data for clustering  \n  \nCombine all of those into a working Data Set to cluster and geo spatial map of the results showing the best neighborhood to open a Restaurant Supply Store  \n  \nCombining all of these disparate data sets will clearly demonstrate the following:  \n  \n. which neighborhoods in Toronto have clusters of like Restaurants  \n. how populated each neighborhoods is  \n. the average after tax income is all of these neighborhoods  \n. which neighborhood should he target to open his new store.  ", 
            "cell_type": "markdown", 
            "metadata": {}
        }, 
        {
            "source": "## Methodology:  \n### Choice of Algorithms   \n#### I chose K-Means Clustering.   \nhttps://towardsdatascience.com/clustering-algorithms-for-customer-segmentation-af637c6830ac   \n  \nA backgrounder on K-Means clustering   \n\u201cK-means clustering is an iterative clustering algorithm where the number of clusters K is predetermined and the algorithm iteratively assigns each data \npoint to one of the K clusters based on the feature similarity.\u201d   \n  \n##### Key Observation: And for my project feature similarity means restaurant similarity in Neighborhoods   ", 
            "cell_type": "markdown", 
            "metadata": {}
        }, 
        {
            "source": "### Choosing the correct number of clusters.   \nhttps://www.jeremyjordan.me/grouping-data-points-with-k-means-clustering/   \nHere I use Silhouette analysis to determine the optimum number of clusters to use.   \n  \n#### A backgrounder on Silhouette analysis.  \n  \n\u201cWe can use Silhouette analysis to evaluate each model. A Silhouette coefficient is calculated for observation, which is then averaged to determine the Silhouette score.   \nThe coefficient combines the average within-cluster distance with average nearest-cluster distance to assign a value between -1 and 1. A value below zero \ndenotes that the observation is probably in the wrong cluster and a value closer to 1 denotes that the observation is a great fit for the cluster and \nclearly separated from other clusters. This coefficient essentially measures how close an observation is to neighboring clusters, where it is desirable \nto be the maximum distance possible from neighboring clusters.   \nWe can automatically determine the best number of clusters, k, by selecting the model which yields the highest Silhouette score.\u201d   \n  \n\n#### Key Observation: My highest score was 2.   \n  \n\n#### 2.1 Run K means and segment data into clusters and generate labels  \n\n#### 2.2 Merge the Toronto data with geo coordinates data and make sure it's the right shape  \nHere I reshape the Toronto data so that it\u2019s shape matches the clustered data.  \n  \n\n#### 2.3 Add the KMeans Labels  \nDetermine the largest cluster in this case it was cluster number 2 with a shape of \n(76, 15)  ", 
            "cell_type": "markdown", 
            "metadata": {}
        }, 
        {
            "source": "#### 3. Cluster 2 Contains the highest cluster density. We need to find the geographic centroid for this cluster. This is the optimum location for a new Restaurant Supply Store.  \nHere we take the average latitude and longitude to be the centroid.  \n  \n#### 3.1 Install opencage to reverse lookup the coordinates  \nOpencage allows me to reverse lookup the geo coordinates.   \n#### Key Observation: This is the optimum location for a new Restaurant Supply Store.  \n  \n#### Results:  \n#### 4.1 Plot the clusters on a Map of the Toronto and Super Impose the best location of a Store  ", 
            "cell_type": "markdown", 
            "metadata": {}
        }, 
        {
            "source": "<img src =\"Best_location1.png\" />", 
            "cell_type": "markdown", 
            "metadata": {}
        }, 
        {
            "source": "### 4.2 Exact Address of desired Location  \nBased on a reverse Lookup   \nThe exact Address to locate would be: 268 Balliol Street, ON M4S 1C2, Canada or lat: 43.6991598, lng: -79.3878871 \n  \n## Discussion:  \n### 5.1 Explaining the results  \nAs we built our list of neighborhoods with Restaurant venues exclusively we discovered most neighborhoods were similar and the greatest concentration of restaurants was in Central Toronto and downtown Toronto. This might seem obvious but it would also appear that these are some of the most affluent neighborhoods in Toronto so there appears to be correlation. By Locating in the general vicinity of the Exact location my friend could be geographically centered in this cluster and poised to service his restaurant customer base with greatest efficiency.  \n  \nWhen we built our our K-Means dataset we used Silhouette analysis to tell us there was a lot of similarity between neighborhoods and the most common restaurants contained with in. Really there was only 2 types of cluster or neighborhoods in greater Toronto. The vast majority of those were in 1 cluster. So Toronto restaurants might be many but they are very homogeneously located near the center of Toronto.  \n  \nOf the 103 Toronto Neighborhoods gathered only 55.3% or 57 Neighborhoods are above the median after-tax income. 37.8% or 39 Neighborhoods are below he median after-tax income. 6.7% or 7 neighborhoods did not register as it appears their populations are too low. It appears that the greatest concentration of affluence is near central Toronto. We decided to keep all neighborhoods in the dataset regardless of income of population as the majority were close enough.  ", 
            "cell_type": "markdown", 
            "metadata": {}
        }, 
        {
            "source": "### Conclusion:  \nI feel confident with the recommendation I have given my friend as it is backed up with demonstrated data analysis. While nothing can ever be 100% certain he will certainly be better informed than he was prior to asking for my help.  \n  \nMuch more inference can be obtained with more work. A potential side business for my friend might be assisting new restaurant owners where they might locate a new restaurant, who their competition is and who their clientele might be.  ", 
            "cell_type": "markdown", 
            "metadata": {}
        }, 
        {
            "source": "", 
            "cell_type": "code", 
            "metadata": {}, 
            "outputs": [], 
            "execution_count": null
        }
    ], 
    "metadata": {
        "kernelspec": {
            "display_name": "Python 3.5", 
            "name": "python3", 
            "language": "python"
        }, 
        "language_info": {
            "mimetype": "text/x-python", 
            "nbconvert_exporter": "python", 
            "version": "3.5.5", 
            "name": "python", 
            "file_extension": ".py", 
            "pygments_lexer": "ipython3", 
            "codemirror_mode": {
                "version": 3, 
                "name": "ipython"
            }
        }
    }, 
    "nbformat": 4
}